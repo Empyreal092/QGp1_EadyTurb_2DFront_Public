{
 "cells": [
  {
   "cell_type": "code",
   "execution_count": 1,
   "metadata": {},
   "outputs": [],
   "source": [
    "import h5py\n",
    "import numpy as np\n",
    "\n",
    "import matplotlib.pyplot as plt\n",
    "import matplotlib.colors as colors\n",
    "plt.style.use('~/Python_Tool/ryan_mplstyle.mplstyle')\n",
    "\n",
    "import numpy as np\n",
    "\n",
    "import cmocean.cm as cmo\n",
    "import dedalus.public as d3\n",
    "from scipy.stats import skew\n",
    "\n",
    "import sys\n",
    "sys.path.insert(0, '../../subroutines')\n",
    "from isospectrum import isospectrum"
   ]
  },
  {
   "cell_type": "code",
   "execution_count": 2,
   "metadata": {},
   "outputs": [
    {
     "name": "stdout",
     "output_type": "stream",
     "text": [
      "[198.99866914 199.10073773 199.20065131 199.29987792 199.40125036\n",
      " 199.4988012  199.60126648 199.70123161 199.80018468]\n",
      "['scales', 'tasks']\n",
      "<HDF5 group \"/scales\" (9 members)>\n",
      "['constant', 'iteration', 'sim_time', 'timestep', 'wall_time', 'write_number', 'x_hash_7cca60416d779fd913c1a86e88754613c4f264c4', 'y_hash_7cca60416d779fd913c1a86e88754613c4f264c4', 'z_hash_c15d9d42c8358761910dd56e7041f198d841a147']\n",
      "<HDF5 group \"/tasks\" (14 members)>\n",
      "['P0_yslc', 'P0_zslc', 'P1_yslc', 'P1_zslc', 'b_bot', 'b_mm', 'b_mt', 'b_top', 'div_bot', 'div_top', 'strain_bot', 'strain_top', 'zeta_bot', 'zeta_top']\n",
      "../EadyQGPl_sp_0d032_3/EadyQGPl_sp_0d032_3_s20.h5\n"
     ]
    }
   ],
   "source": [
    "Ro = 0.032\n",
    "nun2 = 3\n",
    "\n",
    "dgname = 'EadyQGPl_dg_%.3f_%d/EadyQGPl_dg_%.3f_%d_s%i' %(Ro, nun2, Ro, nun2, 1)\n",
    "dgname = dgname.replace(\".\", \"d\" ); dgname = \"../\"+dgname+'.h5'\n",
    "\n",
    "with h5py.File(dgname, mode='r') as file:\n",
    "    KE_data = np.squeeze(np.array(file['tasks']['KE']))\n",
    "    PE_data = np.squeeze(np.array(file['tasks']['PE']))\n",
    "    avgbt_data = np.squeeze(np.array(file['tasks']['avgbt']))\n",
    "    avgbb_data = np.squeeze(np.array(file['tasks']['avgbb']))\n",
    "    \n",
    "    dg_time_ary = np.array(file['scales']['sim_time'])\n",
    "    print(dg_time_ary[-10:-1])\n",
    "\n",
    "spname = 'EadyQGPl_sp_%.3f_%d/EadyQGPl_sp_%.3f_%d_s%i' %(Ro, nun2, Ro, nun2, int((dg_time_ary[-1]-1)/10+1)-0 )\n",
    "# spname = 'EadyQGPl_sp_%.2f_%.2f/EadyQGPl_sp_%.2f_%.2f_s%i' %(Ro, nun2, Ro, nun2, 1 )\n",
    "spname = spname.replace(\".\", \"d\" ); spname = \"../\"+spname+'.h5'\n",
    "\n",
    "with h5py.File(spname, mode='r') as file:\n",
    "    a_group_key = list(file.keys())\n",
    "    print(a_group_key)\n",
    "    \n",
    "    print(file['scales'])\n",
    "    print(list(file['scales']))\n",
    "    print(file['tasks'])\n",
    "    print(list(file['tasks']))\n",
    "    \n",
    "print(spname)"
   ]
  },
  {
   "cell_type": "code",
   "execution_count": 3,
   "metadata": {},
   "outputs": [
    {
     "name": "stdout",
     "output_type": "stream",
     "text": [
      "16\n",
      "17\n",
      "18\n",
      "19\n",
      "20\n"
     ]
    }
   ],
   "source": [
    "bt_all = np.empty([0,512,512])\n",
    "bb_all = np.empty([0,512,512])\n",
    "bmt_all = np.empty([0,512,512])\n",
    "bmm_all = np.empty([0,512,512])\n",
    "\n",
    "zetat_all = np.empty([0,512,512])\n",
    "zetab_all = np.empty([0,512,512])\n",
    "zetamt_all = np.empty([0,512,512])\n",
    "zetamm_all = np.empty([0,512,512])\n",
    "\n",
    "straint_all = np.empty([0,512,512])\n",
    "div_all = np.empty([0,512,512])\n",
    "\n",
    "for di in range(16,21):\n",
    "    print(di)\n",
    "    \n",
    "    spname = 'EadyQGPl_sp_%.3f_%d/EadyQGPl_sp_%.3f_%d_s%i' %(Ro, nun2, Ro, nun2, di )\n",
    "    spname = spname.replace(\".\", \"d\" ); spname = \"../\"+spname+'.h5'\n",
    "\n",
    "    # Plot writes\n",
    "    with h5py.File(spname, mode='r') as file:\n",
    "        bt_data = np.squeeze(np.array(file['tasks']['b_top']))\n",
    "        bb_data = np.squeeze(np.array(file['tasks']['b_bot']))\n",
    "#         bmt_data = np.squeeze(np.array(file['tasks']['b_mt']))\n",
    "#         bmm_data = np.squeeze(np.array(file['tasks']['b_mm']))\n",
    "\n",
    "        zetat_data = np.squeeze(np.array(file['tasks']['zeta_top']))*0.06\n",
    "#         zetamt_data = np.squeeze(np.array(file['tasks']['zeta_mt']))*0.06\n",
    "#         zetamm_data = np.squeeze(np.array(file['tasks']['zeta_mm']))*0.06\n",
    "        zetab_data = np.squeeze(np.array(file['tasks']['zeta_bot']))*0.06\n",
    "        \n",
    "        divt_data = np.squeeze(np.array(file['tasks']['div_top']))*0.06\n",
    "        straint_data = np.squeeze(np.array(file['tasks']['strain_top']))*0.06\n",
    "        \n",
    "        ####\n",
    "        bt_all = np.append(bt_all,bt_data,axis=0)\n",
    "        bb_all = np.append(bb_all,bb_data,axis=0)\n",
    "#         bmt_all = np.append(bmt_all,bmt_data,axis=0)\n",
    "#         bmm_all = np.append(bmm_all,bmm_data,axis=0)\n",
    "        \n",
    "        zetat_all = np.append(zetat_all,zetat_data,axis=0)\n",
    "        zetab_all = np.append(zetab_all,zetab_data,axis=0)\n",
    "#         zetamt_all = np.append(zetamt_all,zetamt_data,axis=0)\n",
    "#         zetamm_all = np.append(zetamm_all,zetamm_data,axis=0)\n",
    "        \n",
    "        straint_all = np.append(straint_all,straint_data,axis=0)\n",
    "        div_all = np.append(div_all,divt_data,axis=0)"
   ]
  },
  {
   "cell_type": "code",
   "execution_count": 4,
   "metadata": {},
   "outputs": [],
   "source": [
    "# fig=plt.figure(figsize=(2.8, 2.0))\n",
    "\n",
    "# plt.hist(zetat_all[:,:,:].ravel(), log=True, density=True, bins=50, histtype='step',  label=\"$\\zeta^t/f$, %.2f\" %skew(zetat_all[:,:,:].ravel()))\n",
    "# # plt.hist(zetab_all[:,:,:].ravel(), log=True, density=True, bins=50, histtype='step',  label=\"$\\zeta^b/f$, %.2f\" %skew(zetab_all[:,:,:].ravel()))\n",
    "# # plt.hist(zetamt_all[:,:,:].ravel()*4, log=True, density=True, bins=50, histtype='step', label=r\"$4\\times\\zeta(z=-H/4)/f$, %.2f\" %skew(zetamt_all[:,:,:].ravel()))\n",
    "# # plt.hist(zetamm_all[:,:,:].ravel()*4, log=True, density=True, bins=50, histtype='step', label=r\"$4\\times\\zeta(z=-H/2)/f$, %.2f\" %skew(zetamm_all[:,:,:].ravel()))\n",
    "\n",
    "# # plt.title('$\\epsilon=%.2f$' %Ro)\n",
    "# # plt.xlabel(\"$\\zeta/f$\")\n",
    "# plt.xlim([-5,12])\n",
    "# plt.xlabel(\"$\\zeta/f$\")\n",
    "\n",
    "# legend = plt.legend(title=\"Values, Skewness\", fontsize=7)\n",
    "# plt.setp(legend.get_title(),fontsize=8)\n",
    "\n",
    "# figname = 'figs/EadyQGpl_zetaPDFs_Ro%.2f' %(Ro)\n",
    "# figname = figname.replace(\".\", \"d\" ); figname = figname+'.pdf'\n",
    "# plt.savefig(figname, bbox_inches='tight')\n",
    "# plt.show()"
   ]
  },
  {
   "cell_type": "code",
   "execution_count": 5,
   "metadata": {},
   "outputs": [
    {
     "name": "stdout",
     "output_type": "stream",
     "text": [
      "(50,)\n"
     ]
    }
   ],
   "source": [
    "zmax = np.max(zetat_all[:,:,:].ravel())+1e-10\n",
    "zmin = np.min(zetat_all[:,:,:].ravel())\n",
    "\n",
    "z_range = np.linspace(zmin,zmax,50)\n",
    "s_range = np.arange(0,zmax,z_range[-1]-z_range[-2])\n",
    "\n",
    "print(z_range.shape)"
   ]
  },
  {
   "cell_type": "code",
   "execution_count": 6,
   "metadata": {},
   "outputs": [
    {
     "data": {
      "image/png": "[encoded data removed]",
      "text/plain": [
       "<Figure size 350x200 with 2 Axes>"
      ]
     },
     "metadata": {},
     "output_type": "display_data"
    }
   ],
   "source": [
    "fig=plt.figure(figsize=(3.5, 2.0))\n",
    "\n",
    "plt.hist2d(zetat_all[:,:,:].ravel(),straint_all[:,:,:].ravel(), density=True, bins=[z_range, s_range], cmap=cmo.amp, norm=colors.LogNorm())\n",
    "axs_max = max(abs(zetat_all[:,:,:].ravel()))\n",
    "# axs_max = 3.5\n",
    "plt.plot([0,axs_max],[0,axs_max],'--',color='k'); plt.plot([0,-axs_max],[0,axs_max],'--',color='k'); plt.axhline(0,color='k')\n",
    "plt.axis('equal'); \n",
    "plt.xlim(min(zetat_all[:,:,:].ravel()),max(zetat_all[:,:,:].ravel()))\n",
    "plt.colorbar()\n",
    "plt.title('Vorticity-Strain JPDF')\n",
    "plt.xlabel(\"$\\zeta^t/f$\")\n",
    "plt.ylabel(\"$\\sigma^t/f$\")\n",
    "\n",
    "figname = 'figs/EadyQGpl_jointPDFs_Ro%.2f' %(Ro)\n",
    "figname = figname.replace(\".\", \"d\" ); figname = figname+'.pdf'\n",
    "plt.savefig(figname, bbox_inches='tight')\n",
    "\n",
    "plt.show()"
   ]
  },
  {
   "cell_type": "code",
   "execution_count": 7,
   "metadata": {},
   "outputs": [
    {
     "name": "stderr",
     "output_type": "stream",
     "text": [
      "/ext3/miniconda3/lib/python3.11/site-packages/numpy/core/fromnumeric.py:3504: RuntimeWarning: Mean of empty slice.\n",
      "  return _methods._mean(a, axis=axis, dtype=dtype,\n",
      "/ext3/miniconda3/lib/python3.11/site-packages/numpy/core/_methods.py:129: RuntimeWarning: invalid value encountered in scalar divide\n",
      "  ret = ret.dtype.type(ret / rcount)\n"
     ]
    }
   ],
   "source": [
    "za = zetat_all[:,:,:].ravel()\n",
    "sa = straint_all[:,:,:].ravel()\n",
    "da = div_all[:,:,:].ravel()\n",
    "\n",
    "div_mean = np.empty((z_range.size-1,s_range.size-1))\n",
    "\n",
    "for z_i in range(z_range.size-1):\n",
    "    for s_i in range(s_range.size-1):\n",
    "        z_here = (za>=z_range[z_i])*(za<z_range[z_i+1])\n",
    "        s_here = (sa>=s_range[s_i])*(sa<s_range[s_i+1])\n",
    "        \n",
    "        div_mean[z_i,s_i] = np.mean(da[z_here*s_here])"
   ]
  },
  {
   "cell_type": "code",
   "execution_count": 8,
   "metadata": {},
   "outputs": [
    {
     "data": {
      "image/png": "[encoded data removed]",
      "text/plain": [
       "<Figure size 550x300 with 2 Axes>"
      ]
     },
     "metadata": {},
     "output_type": "display_data"
    }
   ],
   "source": [
    "fig=plt.figure(figsize=(5.5, 3))\n",
    "\n",
    "# plt.pcolor((z_range[1:]+z_range[:-1])/2,(s_range[1:]+s_range[:-1])/2,div_mean.T, cmap=cmo.balance, norm=colors.CenteredNorm())\n",
    "cax = plt.pcolormesh((z_range[1:]+z_range[:-1])/2,(s_range[1:]+s_range[:-1])/2,\\\n",
    "           div_mean.T, cmap=cmo.balance, norm=colors.SymLogNorm(linthresh=5e-4, linscale=1e-2,vmin=(np.nanmin(div_mean)),vmax=-(np.nanmin(div_mean))))\n",
    "\n",
    "plt.plot([0,axs_max],[0,axs_max],'--',color='k'); plt.plot([0,-axs_max],[0,axs_max],'--',color='k'); plt.axhline(0,color='k')\n",
    "plt.axis('equal'); plt.xlim(min(zetat_all[:,:,:].ravel()),max(zetat_all[:,:,:].ravel()))\n",
    "\n",
    "cbar = fig.colorbar(cax, ticks=[-1e-2,-1e-1,-1e-0, 1e-0, 1e-1, 1e-2, 0])\n",
    "cbar.ax.set_yticklabels(['-1e-2','-1e-1', '-1e0', '1e0', '1e-1', '1e-2', '0'])  # vertically oriented colorbar\n",
    "\n",
    "plt.title('Divergence conditioned on JPDFs')\n",
    "plt.xlabel(\"$\\zeta^t/f$\")\n",
    "plt.ylabel(\"$\\sigma^t/f$\")\n",
    "cbar.set_label('$\\delta^t/f$')\n",
    "\n",
    "figname = 'figs/EadyQGpl_condJPDF_Ro%.2f' %(Ro)\n",
    "figname = figname.replace(\".\", \"d\" ); figname = figname+'.pdf'\n",
    "plt.savefig(figname, bbox_inches='tight')\n",
    "\n",
    "plt.show()"
   ]
  },
  {
   "cell_type": "markdown",
   "metadata": {},
   "source": [
    "### "
   ]
  }
 ],
 "metadata": {
  "kernelspec": {
   "display_name": "dedalus3",
   "language": "python",
   "name": "dedalus3"
  },
  "language_info": {
   "codemirror_mode": {
    "name": "ipython",
    "version": 3
   },
   "file_extension": ".py",
   "mimetype": "text/x-python",
   "name": "python",
   "nbconvert_exporter": "python",
   "pygments_lexer": "ipython3",
   "version": "3.11.5"
  }
 },
 "nbformat": 4,
 "nbformat_minor": 5
}
