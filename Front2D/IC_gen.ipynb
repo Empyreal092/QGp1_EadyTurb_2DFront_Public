{
 "cells": [
  {
   "cell_type": "code",
   "execution_count": 20,
   "id": "ac48945a-00b5-4e5b-b3c2-f3b3935803a7",
   "metadata": {},
   "outputs": [],
   "source": [
    "import matplotlib.pyplot as plt\n",
    "import matplotlib.colors as colors\n",
    "plt.style.use('/mnt/c/Ryan_Data/Python_Tool/ryan_mplstyle.mplstyle')\n",
    "\n",
    "import numpy as np\n",
    "\n",
    "import h5py\n",
    "import cmocean.cm as cmo\n",
    "import dedalus.public as d3\n",
    "\n",
    "from scipy import special"
   ]
  },
  {
   "cell_type": "code",
   "execution_count": 21,
   "id": "97e265d3-39f9-4490-88f3-11939bdf8221",
   "metadata": {},
   "outputs": [],
   "source": [
    "# Parameters\n",
    "Ly, Lz = 16, 1\n",
    "Ny, Nz = 512, 16\n",
    "\n",
    "dealias = 3/2\n",
    "dtype = np.float64\n",
    "\n",
    "Ro = 0.3"
   ]
  },
  {
   "cell_type": "code",
   "execution_count": 22,
   "id": "07868419-285c-4847-8535-baef9d3d7fca",
   "metadata": {},
   "outputs": [],
   "source": [
    "# Bases\n",
    "coords = d3.CartesianCoordinates('y', 'z')\n",
    "dist = d3.Distributor(coords, dtype=dtype)\n",
    "ybasis = d3.Chebyshev(coords['y'], size=Ny, bounds=(-Ly/2, Ly/2), dealias=dealias)\n",
    "zbasis = d3.Chebyshev(coords['z'], size=Nz, bounds=(-Lz/2, Lz/2), dealias=dealias)"
   ]
  },
  {
   "cell_type": "code",
   "execution_count": 23,
   "id": "e89404ff-63f9-4a33-bd9d-dfcc4758fa5f",
   "metadata": {},
   "outputs": [],
   "source": [
    "# Substitutions\n",
    "dy = lambda A: d3.Differentiate(A, coords['y'])\n",
    "dz = lambda A: d3.Differentiate(A, coords['z'])\n",
    "\n",
    "y, z = dist.local_grids(ybasis, zbasis)\n",
    "\n",
    "lift_basisy = ybasis.derivative_basis(2)\n",
    "lifty = lambda A, n: d3.Lift(A, lift_basisy, n)\n",
    "lift_basisz = zbasis.derivative_basis(2)\n",
    "liftz = lambda A, n: d3.Lift(A, lift_basisz, n)"
   ]
  },
  {
   "cell_type": "code",
   "execution_count": 24,
   "id": "0ff79a4f-d352-4362-803b-6fd7857c0990",
   "metadata": {},
   "outputs": [],
   "source": [
    "Lz = 1\n",
    "\n",
    "dealias = 3/2\n",
    "timestepper = d3.RK111\n",
    "dtype = np.float64\n",
    "nu = 0\n",
    "\n",
    "Ro = 0.3\n",
    "\n",
    "# Bases\n",
    "coords = d3.CartesianCoordinates('y', 'z')\n",
    "dist = d3.Distributor(coords, dtype=dtype)\n",
    "ybasis = d3.Chebyshev(coords['y'], size=Ny, bounds=(-Ly/2, Ly/2), dealias=dealias)\n",
    "zbasis = d3.Chebyshev(coords['z'], size=Nz, bounds=(-Lz/2, Lz/2), dealias=dealias)\n",
    "\n",
    "# Substitutions\n",
    "dy = lambda A: d3.Differentiate(A, coords['y'])\n",
    "dz = lambda A: d3.Differentiate(A, coords['z'])\n",
    "\n",
    "y, z = dist.local_grids(ybasis, zbasis)\n",
    "\n",
    "lift_basisy = ybasis.derivative_basis(2)\n",
    "lifty = lambda A, n: d3.Lift(A, lift_basisy, n)\n",
    "lift_basisz = zbasis.derivative_basis(2)\n",
    "liftz = lambda A, n: d3.Lift(A, lift_basisz, n)\n",
    "\n",
    "# Fields\n",
    "q = dist.Field(name='q', bases=(ybasis,zbasis))\n",
    "\n",
    "P0 = dist.Field(name='P0', bases=(ybasis,zbasis))\n",
    "tau_y1 = dist.Field(name='tau_y1', bases=zbasis)\n",
    "tau_y2 = dist.Field(name='tau_y2', bases=zbasis)\n",
    "tau_z1 = dist.Field(name='tau_z1', bases=ybasis)\n",
    "tau_z2 = dist.Field(name='tau_z2', bases=ybasis)\n",
    "tau_P0 = dist.Field(name='tau_P0')\n",
    "\n",
    "P1 = dist.Field(name='P1', bases=(ybasis,zbasis))\n",
    "tau_P1y1 = dist.Field(name='tau_P1y1', bases=zbasis)\n",
    "tau_P1y2 = dist.Field(name='tau_P1y2', bases=zbasis)\n",
    "tau_P1z1 = dist.Field(name='tau_P1z1', bases=ybasis)\n",
    "tau_P1z2 = dist.Field(name='tau_P1z2', bases=ybasis)\n",
    "tau_P1 = dist.Field(name='tau_P1')\n",
    "\n",
    "G = dist.Field(name='G', bases=(ybasis,zbasis))\n",
    "tau_Gy1 = dist.Field(name='tau_Gy1', bases=zbasis)\n",
    "tau_Gy2 = dist.Field(name='tau_Gy2', bases=zbasis)\n",
    "tau_Gz1 = dist.Field(name='tau_Gz1', bases=ybasis)\n",
    "tau_Gz2 = dist.Field(name='tau_Gz2', bases=ybasis)\n",
    "\n",
    "bt = dist.Field(name='bt', bases=ybasis)\n",
    "bb = dist.Field(name='bb', bases=ybasis)\n",
    "\n",
    "u = dist.Field(name='u', bases=(ybasis,zbasis))\n",
    "b = dist.Field(name='b', bases=(ybasis,zbasis))\n",
    "zeta = dist.Field(name='zeta', bases=(ybasis,zbasis))\n",
    "\n",
    "C0 = dist.Field()\n",
    "C1 = dist.Field()\n",
    "D = dist.Field()\n",
    "\n",
    "# Substitution\n",
    "Q2 = lambda A: dy(dz(A))\n",
    "dyy = lambda A: dy(dy(A))"
   ]
  },
  {
   "cell_type": "code",
   "execution_count": 25,
   "id": "ec7f72ca-1ab4-4172-8ea3-fd5defddd4ed",
   "metadata": {},
   "outputs": [
    {
     "data": {
      "text/plain": [
       "{'LHS': <Field 140290968281760>,\n",
       " 'RHS': Add(Diff(<Field 140291357154272>), Mul(0.3, Diff(<Field 140291222776160>))),\n",
       " 'condition': 'True',\n",
       " 'tensorsig': (),\n",
       " 'dtype': dtype('float64'),\n",
       " 'M': 0,\n",
       " 'L': Convert(<Field 140290968281760>),\n",
       " 'F': Add(Diff(<Field 140291357154272>), Mul(0.3, Diff(<Field 140291222776160>))),\n",
       " 'domain': <dedalus.core.domain.Domain at 0x7f9809546ab0>,\n",
       " 'matrix_dependence': array([False,  True]),\n",
       " 'matrix_coupling': array([False,  True])}"
      ]
     },
     "execution_count": 25,
     "metadata": {},
     "output_type": "execute_result"
    }
   ],
   "source": [
    "# Problem\n",
    "# Hacky way of using IVP to solve BVP, just don't put time derivatives\n",
    "problem = d3.IVP([P0, tau_z1, tau_z2, tau_y1, tau_y2, D, \\\n",
    "                  G, tau_Gz1, tau_Gz2, tau_Gy1, tau_Gy2, \\\n",
    "                  P1, tau_P1z1, tau_P1z2, tau_P1y1, tau_P1y2, C1, \\\n",
    "                  u, zeta, b\n",
    "                 ], namespace=locals())\n",
    "\n",
    "problem.add_equation(\"lap(P0) + liftz(tau_z1,-1) + liftz(tau_z2,-2)  + lifty(tau_y1,-1) + lifty(tau_y2,-2) = 0\")\n",
    "problem.add_equation(\"integ(P0) = 0\")\n",
    "problem.add_equation(\"dz(P0)(z=Lz/2) +D = bt\")\n",
    "problem.add_equation(\"dz(P0)(z=-Lz/2)-D = bb\")\n",
    "problem.add_equation(\"dy(P0)(y=-Ly/2) = 0\")\n",
    "problem.add_equation(\"dy(P0)(y=Ly/2) = 0\")\n",
    "\n",
    "problem.add_equation(\"lap(G) + liftz(tau_Gz1,-1) + liftz(tau_Gz2,-2)  + lifty(tau_Gy1,-1) + lifty(tau_Gy2,-2) -2*Q2(P0) = 0\")\n",
    "problem.add_equation(\"G(z=-Lz/2) = 0\")\n",
    "problem.add_equation(\"G(z=Lz/2) = 0\")\n",
    "problem.add_equation(\"G(y=-Ly/2) = 0\")\n",
    "problem.add_equation(\"G(y=Ly/2) = 0\")\n",
    "\n",
    "problem.add_equation(\"lap(P1) + liftz(tau_P1z1,-1) + liftz(tau_P1z2,-2)  + lifty(tau_P1y1,-1) + lifty(tau_P1y2,-2) - C1/Ro = -( dyy(P0)*dz(dz(P0))-dy(dz(P0))**2 )\")\n",
    "problem.add_equation(\"integ(P1) = 0\")\n",
    "problem.add_equation(\"dz(P1)(z=Lz/2) = D/Ro\")\n",
    "problem.add_equation(\"dz(P1)(z=-Lz/2) = -D/Ro\")\n",
    "problem.add_equation(\"dy(P1)(y=-Ly/2) = 0\")\n",
    "problem.add_equation(\"dy(P1)(y=Ly/2) = 0\")\n",
    "\n",
    "problem.add_equation(\"u = -(dy(P0)+Ro*dy(P1))\")\n",
    "problem.add_equation(\"zeta = -dy(u)\")\n",
    "problem.add_equation(\"b = dz(P0)+Ro*dz(P1)\")"
   ]
  },
  {
   "cell_type": "code",
   "execution_count": 26,
   "id": "6760f02f-cd38-442a-b41a-11e793391bd5",
   "metadata": {},
   "outputs": [
    {
     "name": "stdout",
     "output_type": "stream",
     "text": [
      "2024-06-21 15:35:01,223 subsystems 0/1 INFO :: Building subproblem matrices 1/1 (~100%) Elapsed: 1s, Remaining: 0s, Rate: 1.9e+00/s\n"
     ]
    }
   ],
   "source": [
    "# Solver\n",
    "solver = problem.build_solver(timestepper)\n",
    "solver.stop_sim_time = 1"
   ]
  },
  {
   "cell_type": "code",
   "execution_count": 27,
   "id": "489cd777-ccc1-4a02-a387-d1cd2a208bad",
   "metadata": {},
   "outputs": [],
   "source": [
    "q.change_scales(1)\n",
    "bt.change_scales(1)\n",
    "bb.change_scales(1)\n",
    "\n",
    "q['g'] = 0\n",
    "bt['g'] = -special.erf(1.0*y)\n",
    "bb['g'] = -special.erf(1.0*y)\n",
    "\n",
    "###\n",
    "snapshots = solver.evaluator.add_file_handler(\"front_IC_Ly_%d\" % Ly, sim_dt=1e-10, max_writes=10)\n",
    "# snapshots.add_task(-(-q), name='q')\n",
    "snapshots.add_task(-(-b), name='b')\n",
    "snapshots.add_task(-(-bt), name='bt')\n",
    "snapshots.add_task(-(-bb), name='bb')\n",
    "\n",
    "solver.step(1e-10); solver.step(1e-10); solver.step(1e-10)"
   ]
  },
  {
   "cell_type": "code",
   "execution_count": 28,
   "id": "9ce35a18-f07f-4267-895e-62d839249964",
   "metadata": {},
   "outputs": [],
   "source": [
    "# b.change_scales(1)\n",
    "\n",
    "# fig=plt.figure(figsize=(3.2, 2.0))\n",
    "# # plt.contour(y.ravel(), z.ravel(), zeta.allgather_data('g').T, np.arange(-3.0,3.1,0.1), cmap=cmo.balance, norm=colors.CenteredNorm())\n",
    "# plt.contour(y.ravel(), z.ravel(), (b.allgather_data('g')+z).T, 13, cmap=cmo.balance)\n",
    "# # plt.gca().set_aspect('equal')\n",
    "# # plt.xlabel('$y$')\n",
    "# # plt.ylabel('$z$')\n",
    "# plt.xticks([])\n",
    "# plt.yticks([])\n",
    "# plt.title(\"$b$\")\n",
    "# plt.colorbar()\n",
    "# plt.xlim([-2,2])\n",
    "\n",
    "# figname = 'plot/figs/2DFQGpl_bt0'\n",
    "# figname = figname.replace(\".\", \"d\" ); figname = figname+'.pdf'\n",
    "# # plt.savefig(figname, bbox_inches='tight')"
   ]
  },
  {
   "cell_type": "code",
   "execution_count": 31,
   "id": "39b38f43-9573-4bb3-ba4c-5f96d5f8736c",
   "metadata": {},
   "outputs": [
    {
     "data": {
      "image/png": "[encoded data removed]",
      "text/plain": [
       "<Figure size 280x200 with 2 Axes>"
      ]
     },
     "metadata": {},
     "output_type": "display_data"
    }
   ],
   "source": [
    "b.change_scales(1)\n",
    "u.change_scales(1)\n",
    "\n",
    "fig=plt.figure(figsize=(2.8, 2.0))\n",
    "plt.contour(y.ravel(), z.ravel(), (Ro*b.allgather_data('g')+z).T, np.arange(-3,3.3,0.1), colors='black', linewidths=0.8)\n",
    "plt.contourf(y.ravel(), z.ravel(), Ro*u.allgather_data('g').T, 15, cmap=cmo.balance)\n",
    "\n",
    "plt.xlabel(\"$y/L$\"); \n",
    "plt.ylabel(\"$z/H$\")\n",
    "plt.colorbar()\n",
    "plt.xlim([-2,2])\n",
    "plt.title(\"Initial condition\")\n",
    "\n",
    "figname = 'plot/figs/2DFSemiu_t0'\n",
    "figname = figname.replace(\".\", \"d\" ); figname = figname+'.pdf'\n",
    "plt.savefig(figname, bbox_inches='tight')"
   ]
  },
  {
   "cell_type": "code",
   "execution_count": null,
   "id": "34a77b15-6a90-4ead-bc61-87de84bf4e9b",
   "metadata": {},
   "outputs": [],
   "source": []
  }
 ],
 "metadata": {
  "kernelspec": {
   "display_name": "Python 3 (ipykernel)",
   "language": "python",
   "name": "python3"
  },
  "language_info": {
   "codemirror_mode": {
    "name": "ipython",
    "version": 3
   },
   "file_extension": ".py",
   "mimetype": "text/x-python",
   "name": "python",
   "nbconvert_exporter": "python",
   "pygments_lexer": "ipython3",
   "version": "3.12.2"
  }
 },
 "nbformat": 4,
 "nbformat_minor": 5
}
