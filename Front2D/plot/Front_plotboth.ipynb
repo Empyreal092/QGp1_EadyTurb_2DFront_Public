{
 "cells": [
  {
   "cell_type": "code",
   "execution_count": 1,
   "id": "8b450712-b064-44de-9756-359a0b35f457",
   "metadata": {},
   "outputs": [],
   "source": [
    "import matplotlib.pyplot as plt\n",
    "import matplotlib.colors as colors\n",
    "plt.style.use('/mnt/c/Ryan_Data/Python_Tool/ryan_mplstyle.mplstyle')\n",
    "\n",
    "import numpy as np\n",
    "\n",
    "import h5py\n",
    "import cmocean.cm as cmo\n",
    "import dedalus.public as d3"
   ]
  },
  {
   "cell_type": "code",
   "execution_count": 2,
   "id": "fbe235ff-26c5-446d-999f-8cf34be9a88f",
   "metadata": {},
   "outputs": [],
   "source": [
    "Ro = 0.3;\n",
    "Ly = 16\n",
    "Ny, Nz = 1024, 16\n",
    "\n",
    "spname = 'QGpq1_Ro%.2f_Ly%d_Ny%d_Nz%d_snap' %(Ro, Ly, Ny, Nz)\n",
    "spname = spname.replace(\".\", \"d\" ); \n",
    "snapname = \"../\"+spname+\"/\"+spname+\"_s1.h5\"\n",
    "\n",
    "with h5py.File(snapname, mode='r') as file:\n",
    "    \n",
    "    G_data = np.squeeze(np.array(file['tasks']['G']))\n",
    "    q_data = np.squeeze(np.array(file['tasks']['q']))\n",
    "    # v_data = np.squeeze(np.array(file['tasks']['v']))\n",
    "    # w_data = np.squeeze(np.array(file['tasks']['w']))\n",
    "    bt_data = np.squeeze(np.array(file['tasks']['bt']))\n",
    "    bb_data = np.squeeze(np.array(file['tasks']['bb']))\n",
    "    absdybt = np.squeeze(np.array(file['tasks']['absdybt']))\n",
    "    \n",
    "    sim_time_ary = np.array(file['scales']['sim_time'])\n",
    "    # print(sim_time_ary)\n",
    "\n",
    "    y = np.array(file['scales'][list(file['scales'])[-2]])\n",
    "    z = np.array(file['scales'][list(file['scales'])[-1]])"
   ]
  },
  {
   "cell_type": "code",
   "execution_count": 3,
   "id": "546e48c4-cd0d-48a7-bf5e-c3322de00263",
   "metadata": {},
   "outputs": [],
   "source": [
    "time_idx = 126"
   ]
  },
  {
   "cell_type": "code",
   "execution_count": 4,
   "id": "f192a8dc-f3ed-4ebf-9353-34f1e499eef7",
   "metadata": {},
   "outputs": [],
   "source": [
    "Lz = 1\n",
    "\n",
    "dealias = 3/2\n",
    "timestepper = d3.RK111\n",
    "dtype = np.float64\n",
    "nu = 0\n",
    "\n",
    "Ro = 0.3\n",
    "\n",
    "# Bases\n",
    "coords = d3.CartesianCoordinates('y', 'z')\n",
    "dist = d3.Distributor(coords, dtype=dtype)\n",
    "ybasis = d3.Chebyshev(coords['y'], size=Ny, bounds=(-Ly/2, Ly/2), dealias=dealias)\n",
    "zbasis = d3.Chebyshev(coords['z'], size=Nz, bounds=(-Lz/2, Lz/2), dealias=dealias)\n",
    "\n",
    "# Substitutions\n",
    "dy = lambda A: d3.Differentiate(A, coords['y'])\n",
    "dz = lambda A: d3.Differentiate(A, coords['z'])\n",
    "\n",
    "y, z = dist.local_grids(ybasis, zbasis)\n",
    "\n",
    "lift_basisy = ybasis.derivative_basis(2)\n",
    "lifty = lambda A, n: d3.Lift(A, lift_basisy, n)\n",
    "lift_basisz = zbasis.derivative_basis(2)\n",
    "liftz = lambda A, n: d3.Lift(A, lift_basisz, n)\n",
    "\n",
    "# Fields\n",
    "q = dist.Field(name='q', bases=(ybasis,zbasis))\n",
    "\n",
    "P0 = dist.Field(name='P0', bases=(ybasis,zbasis))\n",
    "tau_y1 = dist.Field(name='tau_y1', bases=zbasis)\n",
    "tau_y2 = dist.Field(name='tau_y2', bases=zbasis)\n",
    "tau_z1 = dist.Field(name='tau_z1', bases=ybasis)\n",
    "tau_z2 = dist.Field(name='tau_z2', bases=ybasis)\n",
    "tau_P0 = dist.Field(name='tau_P0')\n",
    "\n",
    "P1 = dist.Field(name='P1', bases=(ybasis,zbasis))\n",
    "tau_P1y1 = dist.Field(name='tau_P1y1', bases=zbasis)\n",
    "tau_P1y2 = dist.Field(name='tau_P1y2', bases=zbasis)\n",
    "tau_P1z1 = dist.Field(name='tau_P1z1', bases=ybasis)\n",
    "tau_P1z2 = dist.Field(name='tau_P1z2', bases=ybasis)\n",
    "tau_P1 = dist.Field(name='tau_P1')\n",
    "\n",
    "G = dist.Field(name='G', bases=(ybasis,zbasis))\n",
    "tau_Gy1 = dist.Field(name='tau_Gy1', bases=zbasis)\n",
    "tau_Gy2 = dist.Field(name='tau_Gy2', bases=zbasis)\n",
    "tau_Gz1 = dist.Field(name='tau_Gz1', bases=ybasis)\n",
    "tau_Gz2 = dist.Field(name='tau_Gz2', bases=ybasis)\n",
    "\n",
    "bt = dist.Field(name='bt', bases=ybasis)\n",
    "bb = dist.Field(name='bb', bases=ybasis)\n",
    "\n",
    "u = dist.Field(name='u', bases=(ybasis,zbasis))\n",
    "b = dist.Field(name='b', bases=(ybasis,zbasis))\n",
    "zeta = dist.Field(name='zeta', bases=(ybasis,zbasis))\n",
    "\n",
    "C1 = dist.Field()\n",
    "D = dist.Field()\n",
    "\n",
    "# Substitution\n",
    "Q2 = lambda A: dy(dz(A))\n",
    "dyy = lambda A: dy(dy(A))"
   ]
  },
  {
   "cell_type": "code",
   "execution_count": 5,
   "id": "17be3676-8433-4346-981f-1a68fea9b045",
   "metadata": {},
   "outputs": [
    {
     "data": {
      "text/plain": [
       "{'LHS': <Field 140018735074864>,\n",
       " 'RHS': Add(Diff(<Field 140018740874896>), Mul(0.3, Diff(<Field 140018735072512>))),\n",
       " 'condition': 'True',\n",
       " 'tensorsig': (),\n",
       " 'dtype': dtype('float64'),\n",
       " 'M': 0,\n",
       " 'L': Convert(<Field 140018735074864>),\n",
       " 'F': Add(Diff(<Field 140018740874896>), Mul(0.3, Diff(<Field 140018735072512>))),\n",
       " 'domain': <dedalus.core.domain.Domain at 0x7f58a6f75970>,\n",
       " 'matrix_dependence': array([False,  True]),\n",
       " 'matrix_coupling': array([False,  True])}"
      ]
     },
     "execution_count": 5,
     "metadata": {},
     "output_type": "execute_result"
    }
   ],
   "source": [
    "# Problem\n",
    "# Hacky way of using IVP to solve BVP, just don't put time derivatives\n",
    "problem = d3.IVP([P0, tau_z1, tau_z2, tau_y1, tau_y2, D, \\\n",
    "                  G, tau_Gz1, tau_Gz2, tau_Gy1, tau_Gy2, \\\n",
    "                  P1, tau_P1z1, tau_P1z2, tau_P1y1, tau_P1y2, C1, \\\n",
    "                  u, zeta, b\n",
    "                 ], namespace=locals())\n",
    "\n",
    "problem.add_equation(\"lap(P0) + liftz(tau_z1,-1) + liftz(tau_z2,-2)  + lifty(tau_y1,-1) + lifty(tau_y2,-2) = 0\")\n",
    "problem.add_equation(\"integ(P0) = 0\")\n",
    "problem.add_equation(\"dz(P0)(z=Lz/2) +D = bt\")\n",
    "problem.add_equation(\"dz(P0)(z=-Lz/2)-D = bb\")\n",
    "problem.add_equation(\"dy(P0)(y=-Ly/2) = 0\")\n",
    "problem.add_equation(\"dy(P0)(y=Ly/2) = 0\")\n",
    "\n",
    "problem.add_equation(\"lap(G) + liftz(tau_Gz1,-1) + liftz(tau_Gz2,-2)  + lifty(tau_Gy1,-1) + lifty(tau_Gy2,-2) -2*Q2(P0) = 0\")\n",
    "problem.add_equation(\"G(z=-Lz/2) = 0\")\n",
    "problem.add_equation(\"G(z=Lz/2) = 0\")\n",
    "problem.add_equation(\"G(y=-Ly/2) = 0\")\n",
    "problem.add_equation(\"G(y=Ly/2) = 0\")\n",
    "\n",
    "problem.add_equation(\"lap(P1) + liftz(tau_P1z1,-1) + liftz(tau_P1z2,-2)  + lifty(tau_P1y1,-1) + lifty(tau_P1y2,-2) - C1/Ro = -( dyy(P0)*dz(dz(P0))-dy(dz(P0))**2 )\")\n",
    "problem.add_equation(\"integ(P1) = 0\")\n",
    "problem.add_equation(\"dz(P1)(z=Lz/2) = D/Ro\")\n",
    "problem.add_equation(\"dz(P1)(z=-Lz/2) = -D/Ro\")\n",
    "problem.add_equation(\"dy(P1)(y=-Ly/2) = 0\")\n",
    "problem.add_equation(\"dy(P1)(y=Ly/2) = 0\")\n",
    "\n",
    "problem.add_equation(\"u = -(dy(P0)+Ro*dy(P1))\")\n",
    "problem.add_equation(\"zeta = -dy(u)\")\n",
    "problem.add_equation(\"b = dz(P0)+Ro*dz(P1)\")"
   ]
  },
  {
   "cell_type": "code",
   "execution_count": 6,
   "id": "0e2b28b7-9f8e-4d32-99f5-a4784c159ea5",
   "metadata": {},
   "outputs": [
    {
     "name": "stdout",
     "output_type": "stream",
     "text": [
      "2024-06-20 14:55:49,409 subsystems 0/1 INFO :: Building subproblem matrices 1/1 (~100%) Elapsed: 1s, Remaining: 0s, Rate: 1.1e+00/s\n"
     ]
    }
   ],
   "source": [
    "# Solver\n",
    "solver = problem.build_solver(timestepper)\n",
    "solver.stop_sim_time = 1"
   ]
  },
  {
   "cell_type": "code",
   "execution_count": 7,
   "id": "b2149996-6549-41eb-a407-56d90e52265f",
   "metadata": {},
   "outputs": [
    {
     "name": "stdout",
     "output_type": "stream",
     "text": [
      "[[-0.00653775]]\n"
     ]
    }
   ],
   "source": [
    "q.change_scales(1)\n",
    "bt.change_scales(1)\n",
    "bb.change_scales(1)\n",
    "\n",
    "q['g'] = 0\n",
    "bt['g'] = bt_data[time_idx,:].reshape((Ny, 1))\n",
    "bb['g'] = bb_data[time_idx,:].reshape((Ny, 1))\n",
    "\n",
    "solver.step(1e-10); solver.step(1e-10); solver.step(1e-10)\n",
    "\n",
    "print(Ro*C1['g'])"
   ]
  },
  {
   "cell_type": "code",
   "execution_count": 8,
   "id": "7b67ebdc-5208-4a5a-bb0c-f73f38dbd3ad",
   "metadata": {},
   "outputs": [],
   "source": [
    "y_p1 = y.ravel()\n",
    "z_p1 = z.ravel()\n",
    "\n",
    "b.change_scales(1)\n",
    "u.change_scales(1)\n",
    "\n",
    "bg_p1 = b.allgather_data('g')\n",
    "ug_p1 = u.allgather_data('g')\n",
    "Gd_p1 = G_data[time_idx,:,:]"
   ]
  },
  {
   "cell_type": "code",
   "execution_count": null,
   "id": "af9b61d4-2529-479f-a6f4-bdeb918db336",
   "metadata": {},
   "outputs": [],
   "source": []
  },
  {
   "cell_type": "code",
   "execution_count": 9,
   "id": "46565e72-4418-4136-92b8-a1fdab319c23",
   "metadata": {},
   "outputs": [],
   "source": [
    "Ro = 0.3;\n",
    "Ly = 16\n",
    "Ny, Nz = 512, 16\n",
    "\n",
    "spname = 'SemiG_Ro%.2f_Ly%d_Ny%d_Nz%d_snap' %(Ro, Ly, Ny, Nz)\n",
    "spname = spname.replace(\".\", \"d\" ); \n",
    "snapname = \"../\"+spname+\"/\"+spname+\"_s1.h5\"\n",
    "\n",
    "with h5py.File(snapname, mode='r') as file:\n",
    "    \n",
    "    G_data = np.squeeze(np.array(file['tasks']['G']))\n",
    "    P0_data = np.squeeze(np.array(file['tasks']['P0']))\n",
    "    b_data = np.squeeze(np.array(file['tasks']['b']))\n",
    "    v_data = np.squeeze(np.array(file['tasks']['v']))\n",
    "    w_data = np.squeeze(np.array(file['tasks']['w']))\n",
    "    bt_data = np.squeeze(np.array(file['tasks']['bt']))\n",
    "    bb_data = np.squeeze(np.array(file['tasks']['bb']))\n",
    "\n",
    "    absdybt = np.squeeze(np.array(file['tasks']['absdybt']))\n",
    "    \n",
    "    sim_time_ary = np.array(file['scales']['sim_time'])\n",
    "    # print(sim_time_ary)\n",
    "    \n",
    "    y = np.array(file['scales'][list(file['scales'])[-2]])\n",
    "    z = np.array(file['scales'][list(file['scales'])[-1]])"
   ]
  },
  {
   "cell_type": "code",
   "execution_count": 10,
   "id": "47fd4270-5844-44d4-81a4-0011bac43681",
   "metadata": {},
   "outputs": [],
   "source": [
    "time_idx = 120"
   ]
  },
  {
   "cell_type": "code",
   "execution_count": 11,
   "id": "b7eab4b2-abef-4d20-b04a-8086ddf5b543",
   "metadata": {},
   "outputs": [],
   "source": [
    "# Parameters\n",
    "Ly, Lz = 16, 1\n",
    "\n",
    "dealias = 3/2\n",
    "dtype = np.float64\n",
    "\n",
    "Ro = 0.3\n",
    "\n",
    "# Bases\n",
    "coords = d3.CartesianCoordinates('y', 'z')\n",
    "dist = d3.Distributor(coords, dtype=dtype)\n",
    "ybasis = d3.Chebyshev(coords['y'], size=Ny, bounds=(-Ly/2, Ly/2), dealias=dealias)\n",
    "zbasis = d3.Chebyshev(coords['z'], size=Nz, bounds=(-Lz/2, Lz/2), dealias=dealias)\n",
    "\n",
    "# Substitutions\n",
    "dy = lambda A: d3.Differentiate(A, coords['y'])\n",
    "dz = lambda A: d3.Differentiate(A, coords['z'])\n",
    "\n",
    "y, z = dist.local_grids(ybasis, zbasis)\n",
    "\n",
    "lift_basisy = ybasis.derivative_basis(2)\n",
    "lifty = lambda A, n: d3.Lift(A, lift_basisy, n)\n",
    "lift_basisz = zbasis.derivative_basis(2)\n",
    "liftz = lambda A, n: d3.Lift(A, lift_basisz, n)"
   ]
  },
  {
   "cell_type": "code",
   "execution_count": 12,
   "id": "dae1cac1-8d2a-4ab3-bbec-014e171e62d5",
   "metadata": {},
   "outputs": [],
   "source": [
    "b = dist.Field(bases=(ybasis,zbasis))\n",
    "b['g'] = b_data[time_idx,:]\n",
    "\n",
    "q = dist.Field(bases=(ybasis,zbasis))"
   ]
  },
  {
   "cell_type": "code",
   "execution_count": 13,
   "id": "f4863f32-d32c-4415-bab8-7113af26bb38",
   "metadata": {},
   "outputs": [
    {
     "name": "stdout",
     "output_type": "stream",
     "text": [
      "2024-06-20 14:55:51,767 subsystems 0/1 INFO :: Building subproblem matrices 1/1 (~100%) Elapsed: 0s, Remaining: 0s, Rate: 9.5e+00/s\n"
     ]
    }
   ],
   "source": [
    "psi = dist.Field(bases=(ybasis,zbasis))\n",
    "tau_y1 = dist.Field(bases=ybasis)\n",
    "qq = dist.Field(bases=(ybasis,zbasis))\n",
    "u = dist.Field(bases=(ybasis,zbasis))\n",
    "zeta = dist.Field(bases=(ybasis,zbasis))\n",
    "\n",
    "problem = d3.IVP([psi, tau_y1, qq, u, zeta], namespace=locals())\n",
    "problem.add_equation(\"dz(psi) + liftz(tau_y1,-1) = b\")\n",
    "problem.add_equation(\"psi(z=0) = 0\")\n",
    "problem.add_equation(\"qq - lap(psi)= Ro*( dy(dy(psi))*dz(dz(psi))-dy(dz(psi))*dy(dz(psi)) )\")\n",
    "problem.add_equation(\"u = -dy(psi)\")\n",
    "problem.add_equation(\"zeta = -dy(u)\")\n",
    "\n",
    "###\n",
    "solver = problem.build_solver(d3.RK222)\n",
    "solver.stop_sim_time = 10\n",
    "\n",
    "###\n",
    "solver.step(1e-10); solver.step(1e-10); solver.step(1e-10); solver.step(1e-10); solver.step(1e-10)"
   ]
  },
  {
   "cell_type": "code",
   "execution_count": null,
   "id": "011ddc78-9576-40c5-8181-f940bdebec0b",
   "metadata": {},
   "outputs": [],
   "source": []
  },
  {
   "cell_type": "code",
   "execution_count": null,
   "id": "ea357ffa-48ec-4854-bbef-7e72dfa2e550",
   "metadata": {},
   "outputs": [],
   "source": []
  },
  {
   "cell_type": "code",
   "execution_count": 14,
   "id": "8b03f232-4d90-4964-ad2a-1a48148dd547",
   "metadata": {},
   "outputs": [],
   "source": [
    "b.change_scales(1)\n",
    "u.change_scales(1)"
   ]
  },
  {
   "cell_type": "code",
   "execution_count": 15,
   "id": "1799b8f9-bf2f-4644-98a2-f9af9b11a0c0",
   "metadata": {},
   "outputs": [],
   "source": [
    "# import matplotlib.gridspec as gridspec\n",
    "\n",
    "# fig = plt.figure(figsize=(6, 2.))\n",
    "\n",
    "# gs = gridspec.GridSpec(1, 4, width_ratios=[1,0.05,1,.07])\n",
    "# fig.subplots_adjust(wspace=0.15, hspace=0)\n",
    "\n",
    "# ax = fig.add_subplot(gs[0])\n",
    "# ax.contour(y_p1, z_p1, (Ro*bg_p1+z).T, np.arange(-3,3.3,0.1), colors='black', linewidths=0.8)\n",
    "# ax.contourf(y_p1, z_p1, Ro*ug_p1.T, 15, cmap=cmo.balance)\n",
    "# ax.set_xlim(-2,2)\n",
    "# ax.set_xticks([])\n",
    "# ax.set_yticks([])\n",
    "\n",
    "# ax2 = fig.add_subplot(gs[2])\n",
    "# ax2.contour(y.ravel(), z.ravel(), (Ro*b.allgather_data('g')+z).T, np.arange(-3,3.3,0.1), colors='black', linewidths=0.8)\n",
    "# im = ax2.contourf(y.ravel(), z.ravel(), Ro*u.allgather_data('g').T, 15, cmap=cmo.balance)\n",
    "# ax2.set_xlim(-2,2)\n",
    "# ax2.set_xticks([])\n",
    "# ax2.set_yticks([])\n",
    "\n",
    "# cax = fig.add_subplot(gs[3])\n",
    "# fig.colorbar(im, cax=cax)\n",
    "\n",
    "# figname = 'figs/2DF_u'\n",
    "# figname = figname.replace(\".\", \"d\" ); figname = figname+'.pdf'\n",
    "# # plt.savefig(figname, bbox_inches='tight')"
   ]
  },
  {
   "cell_type": "code",
   "execution_count": 16,
   "id": "bdc630f9-1c8d-40c6-a8dd-41a307976e06",
   "metadata": {},
   "outputs": [],
   "source": [
    "# import matplotlib.gridspec as gridspec\n",
    "\n",
    "# fig = plt.figure(figsize=(6, 2.))\n",
    "\n",
    "# gs = gridspec.GridSpec(1, 4, width_ratios=[1,0.05,1,.07])\n",
    "# fig.subplots_adjust(wspace=0.15, hspace=0)\n",
    "\n",
    "# ax = fig.add_subplot(gs[0])\n",
    "# ax.contour(y_p1, z_p1, (Ro*bg_p1+z).T, np.arange(-3,3.3,0.1), colors='black', linewidths=0.8)\n",
    "# ax.contourf(y_p1, z_p1, Gd_p1.T, np.arange(0,0.4,0.04) , cmap=cmo.amp)\n",
    "# ax.set_xlim(-2,2)\n",
    "# ax.set_xticks([])\n",
    "# ax.set_yticks([])\n",
    "\n",
    "# ax2 = fig.add_subplot(gs[2])\n",
    "# ax2.contour(y.ravel(), z.ravel(), (Ro*b.allgather_data('g')+z).T, np.arange(-3,3.3,0.1), colors='black', linewidths=0.8)\n",
    "# im = ax2.contourf(y.ravel(), z.ravel(), G_data[time_idx,:,:].T, np.arange(0,0.4,0.04) , cmap=cmo.amp)\n",
    "# ax2.set_xlim(-2,2)\n",
    "# ax2.set_xticks([])\n",
    "# ax2.set_yticks([])\n",
    "\n",
    "# cax = fig.add_subplot(gs[3])\n",
    "# fig.colorbar(im, cax=cax)\n",
    "\n",
    "# figname = 'figs/2DF_G'\n",
    "# figname = figname.replace(\".\", \"d\" ); figname = figname+'.pdf'\n",
    "# # plt.savefig(figname, bbox_inches='tight')"
   ]
  },
  {
   "cell_type": "code",
   "execution_count": 17,
   "id": "5660b554-3668-427c-a31a-ecac4057c24c",
   "metadata": {},
   "outputs": [
    {
     "data": {
      "image/png": "[encoded data removed]",
      "text/plain": [
       "<Figure size 280x200 with 2 Axes>"
      ]
     },
     "metadata": {},
     "output_type": "display_data"
    }
   ],
   "source": [
    "import matplotlib.gridspec as gridspec\n",
    "\n",
    "fig=plt.figure(figsize=(2.8, 2.0))\n",
    "\n",
    "plt.contour(y_p1, z_p1, (Ro*bg_p1+z).T, np.arange(-3,3.3,0.1), colors='black', linewidths=0.8)\n",
    "plt.contourf(y_p1, z_p1, Ro*ug_p1.T, 15, cmap=cmo.balance)\n",
    "# plt.xticks([]); \n",
    "# plt.yticks([])\n",
    "plt.xlabel(\"$y/L$\"); \n",
    "plt.ylabel(\"$z/H$\")\n",
    "\n",
    "clb = plt.colorbar()\n",
    "plt.xlim([-2,2])\n",
    "plt.title(\"Along front velocity at $t=1.26$\")\n",
    "\n",
    "figname = 'figs/2DF_u'\n",
    "figname = figname.replace(\".\", \"d\" ); figname = figname+'.pdf'\n",
    "plt.savefig(figname, bbox_inches='tight')"
   ]
  },
  {
   "cell_type": "code",
   "execution_count": 18,
   "id": "e84325fb-c9e5-4695-a47a-c47cfd48ad6f",
   "metadata": {},
   "outputs": [
    {
     "data": {
      "image/png": "[encoded data removed]",
      "text/plain": [
       "<Figure size 280x200 with 2 Axes>"
      ]
     },
     "metadata": {},
     "output_type": "display_data"
    }
   ],
   "source": [
    "import matplotlib.gridspec as gridspec\n",
    "\n",
    "fig=plt.figure(figsize=(2.8, 2.0))\n",
    "\n",
    "plt.contour(y_p1, z_p1, (Ro*bg_p1+z).T, np.arange(-3,3.3,0.1), colors='black', linewidths=0.8)\n",
    "plt.contourf(y_p1, z_p1, Gd_p1.T, np.arange(0,0.4,0.04) , cmap=cmo.amp)\n",
    "# plt.xticks([]); \n",
    "# plt.yticks([])\n",
    "plt.xlabel(\"$y/L$\"); \n",
    "plt.ylabel(\"$z/H$\")\n",
    "\n",
    "clb = plt.colorbar()\n",
    "plt.xlim([-2,2])\n",
    "plt.title(\"Vertical streamfunc. at $t=1.26$\")\n",
    "\n",
    "figname = 'figs/2DF_G'\n",
    "figname = figname.replace(\".\", \"d\" ); figname = figname+'.pdf'\n",
    "plt.savefig(figname, bbox_inches='tight')"
   ]
  }
 ],
 "metadata": {
  "kernelspec": {
   "display_name": "Python 3 (ipykernel)",
   "language": "python",
   "name": "python3"
  },
  "language_info": {
   "codemirror_mode": {
    "name": "ipython",
    "version": 3
   },
   "file_extension": ".py",
   "mimetype": "text/x-python",
   "name": "python",
   "nbconvert_exporter": "python",
   "pygments_lexer": "ipython3",
   "version": "3.12.2"
  }
 },
 "nbformat": 4,
 "nbformat_minor": 5
}
